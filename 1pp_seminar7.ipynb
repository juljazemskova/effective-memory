{
  "cells": [
    {
      "cell_type": "markdown",
      "id": "f297fa3e",
      "metadata": {
        "id": "f297fa3e"
      },
      "source": [
        "# Введение в программирование на языке Python\n",
        "## Семинар 7. Повторение\n",
        "\n",
        "#### Задача 3 (с прошлого занятия)\n",
        "\n",
        "Предположим, что перед нами стоит задача автоматизировать перекладку таблицы из файла в базу данных (к примеру, PostgreSQL). Для начала таблицу необходимо создать. Для этого нужен примерно такой код:\n",
        "\n",
        "```\n",
        "CREATE TABLE distributors (  -- название таблицы\n",
        "    did integer,  -- название_колонки тип_данных\n",
        "    name varchar(40)  -- название_колонки тип_данных\n",
        ");\n",
        "```\n",
        "\n",
        "PostgreSQL [располагает](https://www.postgresql.org/docs/current/datatype.html) следующими типами данных (это не все, что есть, но все, что нам сейчас пригодится):\n",
        "\n",
        "<table>\n",
        "    <tr>\n",
        "        <th>Python</th>\n",
        "        <th>PostgreSQL</th>\n",
        "    </tr>\n",
        "    <tr>\n",
        "        <td>int</td>\n",
        "        <td>smallint, integer, bigint</td>\n",
        "    </tr>\n",
        "    <tr>\n",
        "        <td>float</td>\n",
        "        <td>real</td>\n",
        "    </tr>\n",
        "    <tr>\n",
        "        <td>bool</td>\n",
        "        <td>boolean</td>\n",
        "    </tr>\n",
        "    <tr>\n",
        "        <td>str</td>\n",
        "        <td>varchar, text</td>\n",
        "    </tr>\n",
        "</table>\n",
        "\n",
        "Реализуйте функцию, которая будет принимать на вход путь к файлу и возвращать sql-код для создания таблицы в БД. Функция должна иметь возможность \"угадать\" тип данных каждой колонки по содержанию файла."
      ]
    },
    {
      "cell_type": "code",
      "execution_count": null,
      "id": "ca9818ef",
      "metadata": {
        "id": "ca9818ef"
      },
      "outputs": [],
      "source": [
        "def parse_file(path: str, sep: str) -> dict:\n",
        "  with open(path) as file:\n",
        "    text = file.read()\n",
        "\n",
        "  text_split = text.strip().split('\\n')\n",
        "\n",
        "  header = text_split[0].split(sep)\n",
        "  rows_split = []\n",
        "\n",
        "  for row in text_split[1:]:\n",
        "    rows_split.append(row.split(';'))\n",
        "\n",
        "  columns = list(zip(*rows_split))\n",
        "\n",
        "  data_dict = dict(zip(header, columns))\n",
        "\n",
        "  return data_dict\n",
        "\n",
        "def generate_sql(tablename: str, colnames: list, dtypes: list) -> str:\n",
        "  cols_types = ',\\n'.join(['  ' + ' '.join(pair) for pair in zip(colnames, dtypes)])\n",
        "  sql_script = f'Create table {tablename} (\\n{cols_types}\\n);'\n",
        "  return sql_script\n",
        "\n",
        "def infer_sql(file_path: str, sql_path='create_table.sql', sep=',', tablename=None, colnames=None, dtypes=None) -> str:\n",
        "  '''\n",
        "  Description: infer sql code from file\n",
        "  path:\n",
        "  sep:\n",
        "  tablename:\n",
        "  colnames: list of string or None (in this case we try to infer colnames from file)\n",
        "  dtypes:\n",
        "\n",
        "  returns str with sql script\n",
        "  '''\n",
        "  if tablename is None:\n",
        "    tablename = file_path[(file_path.find('/') + 1):file_path.rfind('.')]\n",
        "\n",
        "  data_dict = parse_file(path=file_path, sep=sep)\n",
        "\n",
        "  if colnames is None:\n",
        "    colnames = list(data_dict.keys())\n",
        "\n",
        "  script = generate_sql(tablename=tablename, colnames=colnames, dtypes=dtypes)\n",
        "  with open(sql_path, 'w') as file:\n",
        "    file.write(script)\n",
        "\n",
        "  return sql_path"
      ]
    },
    {
      "cell_type": "code",
      "source": [
        "file = open('Super.csv', 'r')\n",
        "text = file.read()\n",
        "file.close()"
      ],
      "metadata": {
        "id": "lbxCEIBCZC7R"
      },
      "id": "lbxCEIBCZC7R",
      "execution_count": null,
      "outputs": []
    },
    {
      "cell_type": "code",
      "source": [
        "with open('Super.csv', 'r') as file:\n",
        "  text = file.read()"
      ],
      "metadata": {
        "id": "eO1uUN3QZP_3"
      },
      "id": "eO1uUN3QZP_3",
      "execution_count": null,
      "outputs": []
    },
    {
      "cell_type": "code",
      "source": [
        "template =''' CREATE TABLE distributors (  -- название таблицы\n",
        "    did integer,  -- название_колонки тип_данных\n",
        "    name varchar(40)  -- название_колонки тип_данных\n",
        ");'''"
      ],
      "metadata": {
        "id": "8VKfhqQ0fdmD"
      },
      "id": "8VKfhqQ0fdmD",
      "execution_count": null,
      "outputs": []
    },
    {
      "cell_type": "code",
      "source": [
        "print(template)"
      ],
      "metadata": {
        "colab": {
          "base_uri": "https://localhost:8080/"
        },
        "id": "lMb1S4pFfTmd",
        "outputId": "cf3c95c4-bddc-4752-fb9e-3691a7caaddb"
      },
      "id": "lMb1S4pFfTmd",
      "execution_count": null,
      "outputs": [
        {
          "output_type": "stream",
          "name": "stdout",
          "text": [
            " CREATE TABLE distributors (  -- название таблицы\n",
            "    did integer,  -- название_колонки тип_данных\n",
            "    name varchar(40)  -- название_колонки тип_данных\n",
            ");\n"
          ]
        }
      ]
    },
    {
      "cell_type": "code",
      "execution_count": null,
      "id": "ef77d3e4",
      "metadata": {
        "id": "ef77d3e4",
        "colab": {
          "base_uri": "https://localhost:8080/",
          "height": 304
        },
        "outputId": "088326ae-7970-4642-efe4-8d8a568341d0"
      },
      "outputs": [
        {
          "output_type": "error",
          "ename": "FileNotFoundError",
          "evalue": "ignored",
          "traceback": [
            "\u001b[0;31m---------------------------------------------------------------------------\u001b[0m",
            "\u001b[0;31mFileNotFoundError\u001b[0m                         Traceback (most recent call last)",
            "\u001b[0;32m<ipython-input-10-d94d826312c8>\u001b[0m in \u001b[0;36m<cell line: 2>\u001b[0;34m()\u001b[0m\n\u001b[1;32m      1\u001b[0m \u001b[0mpth\u001b[0m \u001b[0;34m=\u001b[0m \u001b[0;34m'../Семинар 6/countries.tsv'\u001b[0m\u001b[0;34m\u001b[0m\u001b[0;34m\u001b[0m\u001b[0m\n\u001b[0;32m----> 2\u001b[0;31m \u001b[0mcheck\u001b[0m \u001b[0;34m=\u001b[0m \u001b[0minfer_sql\u001b[0m\u001b[0;34m(\u001b[0m\u001b[0mpth\u001b[0m\u001b[0;34m,\u001b[0m \u001b[0msep\u001b[0m\u001b[0;34m=\u001b[0m\u001b[0;34m'\\t'\u001b[0m\u001b[0;34m)\u001b[0m\u001b[0;34m\u001b[0m\u001b[0;34m\u001b[0m\u001b[0m\n\u001b[0m",
            "\u001b[0;32m<ipython-input-9-bf4bbaf2b98a>\u001b[0m in \u001b[0;36minfer_sql\u001b[0;34m(path, sep, tablename, colnames, dtypes)\u001b[0m\n\u001b[1;32m     10\u001b[0m   \u001b[0mreturns\u001b[0m \u001b[0mstr\u001b[0m \u001b[0;32mwith\u001b[0m \u001b[0msql\u001b[0m \u001b[0mscript\u001b[0m\u001b[0;34m\u001b[0m\u001b[0;34m\u001b[0m\u001b[0m\n\u001b[1;32m     11\u001b[0m   '''\n\u001b[0;32m---> 12\u001b[0;31m   \u001b[0;32mwith\u001b[0m \u001b[0mopen\u001b[0m\u001b[0;34m(\u001b[0m\u001b[0mpath\u001b[0m\u001b[0;34m)\u001b[0m \u001b[0;32mas\u001b[0m \u001b[0mfile\u001b[0m\u001b[0;34m:\u001b[0m\u001b[0;34m\u001b[0m\u001b[0;34m\u001b[0m\u001b[0m\n\u001b[0m\u001b[1;32m     13\u001b[0m     \u001b[0mtext\u001b[0m \u001b[0;34m=\u001b[0m \u001b[0mfile\u001b[0m\u001b[0;34m.\u001b[0m\u001b[0mread\u001b[0m\u001b[0;34m(\u001b[0m\u001b[0;34m)\u001b[0m\u001b[0;34m\u001b[0m\u001b[0;34m\u001b[0m\u001b[0m\n\u001b[1;32m     14\u001b[0m \u001b[0;34m\u001b[0m\u001b[0m\n",
            "\u001b[0;31mFileNotFoundError\u001b[0m: [Errno 2] No such file or directory: '../Семинар 6/countries.tsv'"
          ]
        }
      ],
      "source": [
        "pth = '../Семинар 6/countries.tsv'\n",
        "tname = 'contries'\n",
        "cname = ['country', 'regoin', 'north_south']\n",
        "dts = ['text', 'text', 'text']\n",
        "\n",
        "check = infer_sql(pth, sep='\\t')"
      ]
    },
    {
      "cell_type": "code",
      "source": [
        "pth = '../Семинар 6/countries.tsv'\n",
        "tname = 'contries'\n",
        "cname = ['country', 'regoin', 'north_south']\n",
        "dts = ['text', 'text', 'text']\n",
        "cds = ',\\n'.join(['  ' + ' '.join(pair) for pair in zip(cname, dts)])\n",
        "sql_script = f'Create table {tname} (\\n{cds}\\n);'"
      ],
      "metadata": {
        "id": "2qX7KhyihEMX"
      },
      "id": "2qX7KhyihEMX",
      "execution_count": null,
      "outputs": []
    },
    {
      "cell_type": "code",
      "source": [
        "[i ** 3 for i in range(2, 10, 3)]"
      ],
      "metadata": {
        "colab": {
          "base_uri": "https://localhost:8080/"
        },
        "id": "GS5dqjvdiB1Y",
        "outputId": "147934e0-df70-4742-90b0-b13f07dfc5f2"
      },
      "id": "GS5dqjvdiB1Y",
      "execution_count": null,
      "outputs": [
        {
          "output_type": "execute_result",
          "data": {
            "text/plain": [
              "[8, 125, 512]"
            ]
          },
          "metadata": {},
          "execution_count": 17
        }
      ]
    },
    {
      "cell_type": "code",
      "source": [
        "',\\n'.join([' '.join(pair) for pair in zip(cname, dts)])"
      ],
      "metadata": {
        "id": "vdz1VxSej9-f"
      },
      "id": "vdz1VxSej9-f",
      "execution_count": null,
      "outputs": []
    },
    {
      "cell_type": "code",
      "source": [
        "list(zip(cname, dts))"
      ],
      "metadata": {
        "id": "WMRUeopqhrAP"
      },
      "id": "WMRUeopqhrAP",
      "execution_count": null,
      "outputs": []
    },
    {
      "cell_type": "code",
      "execution_count": null,
      "id": "6b241f84",
      "metadata": {
        "id": "6b241f84"
      },
      "outputs": [],
      "source": [
        "pth.rfind('.'), pth.rfind('/')"
      ]
    },
    {
      "cell_type": "code",
      "execution_count": null,
      "id": "d9d8ea54",
      "metadata": {
        "id": "d9d8ea54"
      },
      "outputs": [],
      "source": [
        "pth[(pth.rfind('/') + 1):pth.rfind('.')]"
      ]
    },
    {
      "cell_type": "markdown",
      "source": [],
      "metadata": {
        "id": "FnfWqElUMYeG"
      },
      "id": "FnfWqElUMYeG"
    },
    {
      "cell_type": "markdown",
      "id": "5878335f",
      "metadata": {
        "id": "5878335f"
      },
      "source": [
        "#### Задача 2. Вспомним рекурсию\n",
        "\n",
        "Надо написать функцию, которая будет считать факториал с помощью рекурсии."
      ]
    },
    {
      "cell_type": "code",
      "execution_count": null,
      "id": "73e79d60",
      "metadata": {
        "id": "73e79d60"
      },
      "outputs": [],
      "source": [
        "# наш код здесь"
      ]
    },
    {
      "cell_type": "markdown",
      "id": "72762761",
      "metadata": {
        "id": "72762761"
      },
      "source": [
        "**Задача 3** (взята [отсюда](https://pythontutor.ru/lessons/functions/problems/reverse_rec/))\n",
        "\n",
        "Дана последовательность целых чисел, заканчивающаяся числом 0 (числа вводит пользователь). Выведите эту последовательность в обратном порядке (с помощью `print()`).\n",
        "При решении этой задачи нельзя пользоваться массивами и прочими динамическими структурами данных. Рекурсия вам поможет."
      ]
    },
    {
      "cell_type": "code",
      "execution_count": null,
      "id": "d5c8094d",
      "metadata": {
        "id": "d5c8094d"
      },
      "outputs": [],
      "source": [
        "# наш код здесь"
      ]
    },
    {
      "cell_type": "markdown",
      "id": "d43a96ae",
      "metadata": {
        "id": "d43a96ae"
      },
      "source": [
        "#### Разбор ДЗ2"
      ]
    },
    {
      "cell_type": "code",
      "execution_count": null,
      "id": "cb6ef967",
      "metadata": {
        "id": "cb6ef967"
      },
      "outputs": [],
      "source": [
        "# наш код здесь"
      ]
    },
    {
      "cell_type": "markdown",
      "id": "38cf4906",
      "metadata": {
        "id": "38cf4906"
      },
      "source": [
        "#### Хэш таблицы и сложность алгоритма"
      ]
    },
    {
      "cell_type": "code",
      "execution_count": null,
      "id": "389a24a7",
      "metadata": {
        "id": "389a24a7"
      },
      "outputs": [],
      "source": [
        "# наш код здесь"
      ]
    },
    {
      "cell_type": "code",
      "execution_count": null,
      "id": "10232177",
      "metadata": {
        "id": "10232177"
      },
      "outputs": [],
      "source": [
        "import random"
      ]
    },
    {
      "cell_type": "code",
      "execution_count": null,
      "id": "5d340bf9",
      "metadata": {
        "id": "5d340bf9"
      },
      "outputs": [],
      "source": [
        "elems = [random.randint(-1000, 1000) for i in range(100)]\n",
        "\n",
        "elems_shuffled = elems.copy()\n",
        "random.shuffle(elems)\n",
        "\n",
        "array = elems.copy()\n",
        "sorted_array = sorted(array)"
      ]
    },
    {
      "cell_type": "code",
      "execution_count": null,
      "id": "55d2a4d8",
      "metadata": {
        "id": "55d2a4d8"
      },
      "outputs": [],
      "source": [
        "n_buckets = 16\n",
        "\n",
        "hash_table = [[] for i in range(n_buckets)]\n",
        "\n",
        "for elem in array:\n",
        "    bucket_ind = elem.__hash__() % n_buckets\n",
        "    hash_table[bucket_ind].append(elem)"
      ]
    }
  ],
  "metadata": {
    "kernelspec": {
      "display_name": "Python 3 (ipykernel)",
      "language": "python",
      "name": "python3"
    },
    "language_info": {
      "codemirror_mode": {
        "name": "ipython",
        "version": 3
      },
      "file_extension": ".py",
      "mimetype": "text/x-python",
      "name": "python",
      "nbconvert_exporter": "python",
      "pygments_lexer": "ipython3",
      "version": "3.11.4"
    },
    "colab": {
      "provenance": []
    }
  },
  "nbformat": 4,
  "nbformat_minor": 5
}