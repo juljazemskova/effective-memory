{
 "cells": [
  {
   "cell_type": "markdown",
   "id": "f297fa3e",
   "metadata": {},
   "source": [
    "# Введение в программирование на языке Python\n",
    "## Семинар 7. Повторение\n",
    "\n",
    "#### Задача 3 (с прошлого занятия)\n",
    "\n",
    "Предположим, что перед нами стоит задача автоматизировать перекладку таблицы из файла в базу данных (к примеру, PostgreSQL). Для начала таблицу необходимо создать. Для этого нужен примерно такой код:\n",
    "\n",
    "```\n",
    "CREATE TABLE distributors (  -- название таблицы\n",
    "    did integer,  -- название_колонки тип_данных\n",
    "    name varchar(40)  -- название_колонки тип_данных\n",
    ");\n",
    "```\n",
    "\n",
    "PostgreSQL [располагает](https://www.postgresql.org/docs/current/datatype.html) следующими типами данных (это не все, что есть, но все, что нам сейчас пригодится):\n",
    "\n",
    "<table>\n",
    "    <tr>\n",
    "        <th>Python</th>\n",
    "        <th>PostgreSQL</th>\n",
    "    </tr>\n",
    "    <tr>\n",
    "        <td>int</td>\n",
    "        <td>smallint, integer, bigint</td>\n",
    "    </tr>\n",
    "    <tr>\n",
    "        <td>float</td>\n",
    "        <td>real</td>\n",
    "    </tr>\n",
    "    <tr>\n",
    "        <td>bool</td>\n",
    "        <td>boolean</td>\n",
    "    </tr>\n",
    "    <tr>\n",
    "        <td>str</td>\n",
    "        <td>varchar, text</td>\n",
    "    </tr>\n",
    "</table>\n",
    "\n",
    "Реализуйте функцию, которая будет принимать на вход путь к файлу и возвращать sql-код для создания таблицы в БД. Функция должна иметь возможность \"угадать\" тип данных каждой колонки по содержанию файла."
   ]
  },
  {
   "cell_type": "code",
   "execution_count": null,
   "id": "ca9818ef",
   "metadata": {},
   "outputs": [],
   "source": [
    "def infer_sql(path: str, tablename=None, colnames=None, dtypes=None) -> str:\n",
    "    pass"
   ]
  },
  {
   "cell_type": "code",
   "execution_count": null,
   "id": "ef77d3e4",
   "metadata": {},
   "outputs": [],
   "source": [
    "pth = 'data/countries.tsv'"
   ]
  },
  {
   "cell_type": "code",
   "execution_count": null,
   "id": "6b241f84",
   "metadata": {},
   "outputs": [],
   "source": [
    "pth.rfind('.'), pth.rfind('/')"
   ]
  },
  {
   "cell_type": "code",
   "execution_count": null,
   "id": "d9d8ea54",
   "metadata": {},
   "outputs": [],
   "source": [
    "pth[(pth.rfind('/') + 1):pth.rfind('.')]"
   ]
  },
  {
   "cell_type": "markdown",
   "id": "5878335f",
   "metadata": {},
   "source": [
    "#### Задача 2. Вспомним рекурсию\n",
    "\n",
    "Надо написать функцию, которая будет считать факториал с помощью рекурсии."
   ]
  },
  {
   "cell_type": "code",
   "execution_count": null,
   "id": "73e79d60",
   "metadata": {},
   "outputs": [],
   "source": [
    "# наш код здесь"
   ]
  },
  {
   "cell_type": "markdown",
   "id": "72762761",
   "metadata": {},
   "source": [
    "**Задача 3** (взята [отсюда](https://pythontutor.ru/lessons/functions/problems/reverse_rec/))\n",
    "\n",
    "Дана последовательность целых чисел, заканчивающаяся числом 0 (числа вводит пользователь). Выведите эту последовательность в обратном порядке (с помощью `print()`).\n",
    "При решении этой задачи нельзя пользоваться массивами и прочими динамическими структурами данных. Рекурсия вам поможет."
   ]
  },
  {
   "cell_type": "code",
   "execution_count": null,
   "id": "d5c8094d",
   "metadata": {},
   "outputs": [],
   "source": [
    "# наш код здесь"
   ]
  },
  {
   "cell_type": "markdown",
   "id": "d43a96ae",
   "metadata": {},
   "source": [
    "#### Разбор ДЗ2"
   ]
  },
  {
   "cell_type": "code",
   "execution_count": null,
   "id": "cb6ef967",
   "metadata": {},
   "outputs": [],
   "source": [
    "# наш код здесь"
   ]
  },
  {
   "cell_type": "markdown",
   "id": "38cf4906",
   "metadata": {},
   "source": [
    "#### Хэш таблицы и сложность алгоритма"
   ]
  },
  {
   "cell_type": "code",
   "execution_count": null,
   "id": "389a24a7",
   "metadata": {},
   "outputs": [],
   "source": [
    "# наш код здесь"
   ]
  },
  {
   "cell_type": "code",
   "execution_count": null,
   "id": "10232177",
   "metadata": {},
   "outputs": [],
   "source": [
    "import random"
   ]
  },
  {
   "cell_type": "code",
   "execution_count": null,
   "id": "5d340bf9",
   "metadata": {},
   "outputs": [],
   "source": [
    "elems = [random.randint(-1000, 1000) for i in range(100)]\n",
    "\n",
    "elems_shuffled = elems.copy()\n",
    "random.shuffle(elems)\n",
    "\n",
    "array = elems.copy()\n",
    "sorted_array = sorted(array)"
   ]
  },
  {
   "cell_type": "code",
   "execution_count": null,
   "id": "55d2a4d8",
   "metadata": {},
   "outputs": [],
   "source": [
    "n_buckets = 16\n",
    "\n",
    "hash_table = [[] for i in range(n_buckets)]\n",
    "\n",
    "for elem in array:\n",
    "    bucket_ind = elem.__hash__() % n_buckets\n",
    "    hash_table[bucket_ind].append(elem)"
   ]
  }
 ],
 "metadata": {
  "kernelspec": {
   "display_name": "Python 3 (ipykernel)",
   "language": "python",
   "name": "python3"
  },
  "language_info": {
   "codemirror_mode": {
    "name": "ipython",
    "version": 3
   },
   "file_extension": ".py",
   "mimetype": "text/x-python",
   "name": "python",
   "nbconvert_exporter": "python",
   "pygments_lexer": "ipython3",
   "version": "3.11.4"
  }
 },
 "nbformat": 4,
 "nbformat_minor": 5
}
